{
 "cells": [
  {
   "cell_type": "markdown",
   "metadata": {},
   "source": [
    "# Exploring Inconsistancies Between AllStatesAndTerritories Files"
   ]
  },
  {
   "cell_type": "markdown",
   "metadata": {},
   "source": [
    "This notebook explores inconsistancies in the *LESO Property Transferred to Participating Agencies* files that are published quarterly on the [DLA LESO Public Data](https://www.dla.mil/DispositionServices/Offers/Reutilization/LawEnforcement/PublicInformation/) website. As of October 2020, three DISP_AllStatesAndTransfers files have been collected for the quarters ending March 31, June 30 and September 30 of 2020."
   ]
  },
  {
   "cell_type": "code",
   "execution_count": null,
   "metadata": {},
   "outputs": [],
   "source": [
    "#    Libraries used by this notebook.\n",
    "\n",
    "import pandas as pd\n",
    "import matplotlib.pyplot as plt\n",
    "import sys\n",
    "\n",
    "from IPython.display import Markdown as md\n",
    "\n",
    "#!python --version    #Python 3.8.5\n",
    "# sys standard module\n",
    "#!jupyter --version\n",
    "# ipython             #ipython 7.18.1\n",
    "#pd.__version__       #1.1.2\n",
    "\n",
    "sys.path.insert(0, \"..\\\\..\\\\scripts\\\\\")\n",
    "from checksumfunctions import get_file_info\n",
    "from checksumfunctions import get_file_hash\n",
    "from notebookfunctions import make_dataframe\n",
    "from notebookfunctions import count_by_time\n",
    "from notebookfunctions import differences_by_time\n",
    "from notebookfunctions import split_demilcodes\n",
    "\n",
    "#    VARIABLES THAT CAN BE CUSTOMIZED\n",
    "\n",
    "#    Enter the path to the folder containing all the data files.\n",
    "path_datafiles = \"../../data/\"\n",
    "\n",
    "#    Get the 'LESO Property Transferred to Participating Agencies' file from \n",
    "#        Defense Logicstics Agency Law Enforcement Support Office Public Information\n",
    "#    The original name of the data file should be in the form:\n",
    "#        DISP_AllStatesAndTerritories_mmddyyyy.xlsx  \n",
    "#\n",
    "#    Enter the name of the LESO files to be checked.\n",
    "LESO1_file = \"DISP_AllStatesAndTerritories_03312020.xlsx\"\n",
    "LESO2_file = \"DISP_AllStatesAndTerritories_06302020.xlsx\"\n",
    "LESO3_file = \"DISP_AllStatesAndTerritories_09302020.xlsx\"\n",
    "#LESO4_file = \"DISP_AllStatesAndTerritories_12312020.xlsx\"\n",
    "\n",
    "#    Read the data from the XLSX files.\n",
    "#    transfer#_dict is a dictionary of all sheets in the LESO_file\n",
    "#         keys are full state/territory names\n",
    "#         values are a single dataframe of all transfers for that state/territory\n",
    "#    The records may be cumulative up to this quarter.\n",
    "transfers1_dict = pd.read_excel('file:' + path_datafiles + LESO1_file, sheet_name=None)\n",
    "transfers2_dict = pd.read_excel('file:' + path_datafiles + LESO2_file, sheet_name=None)\n",
    "transfers3_dict = pd.read_excel('file:' + path_datafiles + LESO3_file, sheet_name=None)\n",
    "#transfers4_dict = pd.read_excel('file:' + path_datafiles + LESO4_file, sheet_name=None)\n",
    "\n",
    "#    Flatten each dictionary of states into its own dataframe\n",
    "transfers1_df = make_dataframe(transfers1_dict, 'Ship Date')\n",
    "transfers2_df = make_dataframe(transfers2_dict, 'Ship Date')\n",
    "transfers3_df = make_dataframe(transfers3_dict, 'Ship Date')\n",
    "#transfers4_df = make_dataframe(transfers4_dict, 'Ship Date')\n",
    "\n",
    "#    Temporary way to track files the notebook is working with\n",
    "file_quarters_dict = {'transfers1': (transfers1_df, 'Quarter 1'),\n",
    "                      'transfers2': (transfers2_df, 'Quarter 2'),\n",
    "                      'transfers3': (transfers3_df, 'Quarter 3')}"
   ]
  },
  {
   "cell_type": "code",
   "execution_count": null,
   "metadata": {},
   "outputs": [],
   "source": [
    "print('This notebook is comparing the following files: ')\n",
    "for file_name in [LESO1_file, LESO2_file, LESO3_file]:\n",
    "    print('%s\\t%s\\t%s' % get_file_info(path_datafiles + file_name))\n",
    "    print('\\t\\t\\tMD5\\t %s' % get_file_hash(path_datafiles + file_name, 'md5'))\n",
    "    print('\\t\\t\\tSHA256\\t %s' % get_file_hash(path_datafiles + file_name, 'sha256'))"
   ]
  },
  {
   "cell_type": "markdown",
   "metadata": {},
   "source": [
    "### What is the range of dates on records in each file?"
   ]
  },
  {
   "cell_type": "markdown",
   "metadata": {},
   "source": [
    "Under the section called *LESO Property Transferred to Participating Agencies*, the DLA LESO Public Data website says this file is \"... is the most recent quarterly update of the accountable property held by participating agencies.\" The LESO files we will be looking at in this notebook have the following 'Ship Date' ranges:"
   ]
  },
  {
   "cell_type": "code",
   "execution_count": null,
   "metadata": {},
   "outputs": [],
   "source": [
    "#    Explore the range of dates in each file.\n",
    "pd.DataFrame({file_info[1]: [file_info[0].index.to_period('d').min(),\n",
    "                             file_info[0].index.to_period('d').max()]\n",
    "              for file_info in file_quarters_dict.values()},index=['Earliest Date in File','Latest Date in File'])"
   ]
  },
  {
   "cell_type": "markdown",
   "metadata": {},
   "source": [
    "A given DLA LESO AllStatesAndTerritories file may have records that are more recent than the end of the published quarter. These records may or may not be consistant with the files in succeeding quarters as can be seen by exploring the record count for overlapping dates."
   ]
  },
  {
   "cell_type": "code",
   "execution_count": null,
   "metadata": {},
   "outputs": [],
   "source": [
    "#    Explore the record counts for dates outside the expected quarter by file.\n",
    "outside_quarter_start = '2020-04-01'\n",
    "outside_quarter_end = '2020-04-21'\n",
    "\n",
    "april_df = pd.DataFrame({\n",
    "                    file_quarters_dict['transfers1'][1]: file_quarters_dict['transfers1'][0].\\\n",
    "                         loc[outside_quarter_start:outside_quarter_end].groupby('Ship Date')['Ship Date'].count(),\n",
    "                    file_quarters_dict['transfers2'][1]: file_quarters_dict['transfers2'][0].\\\n",
    "                         loc[outside_quarter_start:outside_quarter_end].groupby('Ship Date')['Ship Date'].count(),\n",
    "                    file_quarters_dict['transfers3'][1]: file_quarters_dict['transfers3'][0].\\\n",
    "                         loc[outside_quarter_start:outside_quarter_end].groupby('Ship Date')['Ship Date'].count()\n",
    "                    }).fillna(0).astype(int)\n",
    "april_df.index = april_df.index.to_period('d')\n",
    "\n",
    "april_differences = april_df.diff(axis=1).iloc[:, 1:]\n",
    "april_differences.columns = ['Quarter 2 - Quarter 1','Quarter 3 - Quarter 2']\n",
    "april_differences[(april_differences['Quarter 2 - Quarter 1'] != 0) | \n",
    "                  (april_differences['Quarter 3 - Quarter 2'] != 0)]\n",
    "april_differences.index = april_differences.index.day.astype(str)\n",
    "\n",
    "#    Make a graph\n",
    "fig = plt.figure(constrained_layout=False, figsize=(18,6))\n",
    "gs1 = fig.add_gridspec(nrows=1, ncols=3)\n",
    "fig_ax1 = fig.add_subplot(gs1[0,0:2])\n",
    "fig_ax2 = fig.add_subplot(gs1[0,2:])\n",
    "april_df.plot.bar(ax=fig_ax1,rot=90, legend=True, ylabel='Total Records',\n",
    "                  title='Daily Record Count by File, April 2020')\n",
    "april_differences.plot.line(ax=fig_ax2, legend=True,\n",
    "                            xticks=(range(len(april_differences.index))), yticks=(range(-2,16,2)),\n",
    "                            xlabel='Day in April',ylabel='Difference in Count',\n",
    "                            title='Changes Between Quarters, April 2020')\n",
    "plt.show()"
   ]
  },
  {
   "cell_type": "markdown",
   "metadata": {},
   "source": [
    "### How many total records are there in each file?"
   ]
  },
  {
   "cell_type": "code",
   "execution_count": null,
   "metadata": {},
   "outputs": [],
   "source": [
    "#    Explore total records in each file for x in file_quarters_dict.values()\n",
    "transfer_count_series = pd.Series({'Quarter 1': file_quarters_dict['transfers1'][0].shape[0],\n",
    "                                   'Quarter 2': file_quarters_dict['transfers2'][0].shape[0],\n",
    "                                   'Quarter 3': file_quarters_dict['transfers3'][0].shape[0]})\n",
    "\n",
    "#    Make a graph\n",
    "fig = plt.figure(constrained_layout=False, figsize=(18,8))\n",
    "\n",
    "gs1 = fig.add_gridspec(nrows=1, ncols=10)\n",
    "fig_ax1 = fig.add_subplot(gs1[0,:6])\n",
    "transfer_count_series.plot(ax=fig_ax1, figsize=(12, 4), ylabel='Total Records',\n",
    "                                                             xticks=(range(3)), style='.-',\n",
    "                                                             title='Trend for Total Records in Each Quarterly File')\n",
    "\n",
    "ax2 = fig.add_subplot(gs1[0,8])\n",
    "font_size=12\n",
    "bbox=[0, 0, 5, .25]\n",
    "ax2.axis('off')\n",
    "table_ax1 = ax2.table(cellText = [transfer_count_series.values], rowLabels = ['Record Count'],\n",
    "                      bbox=bbox, colLabels=transfer_count_series.index.astype(str))\n",
    "table_ax1.auto_set_font_size(False)\n",
    "table_ax1.set_fontsize(font_size)"
   ]
  },
  {
   "cell_type": "markdown",
   "metadata": {},
   "source": [
    "The number of records, or DLA LESO items held by law enforcement agecies, is declining from file to file despite the growing time ranges and, presumably, requests for materials. Documentation at the [DLA LESO Public Data FAQ](https://www.dla.mil/DispositionServices/Offers/Reutilization/LawEnforcement/ProgramFAQs.aspx) states that *LESO Property Transferred to Participating Agencies* files are snapshots of the DLA LESO inventory of items held by law enforcement agencies at the end of a given quarter. It states that after 1 year, non-controlled items are removed from DLA LESO inventory and become the property of local law enforcement agencies.   "
   ]
  },
  {
   "cell_type": "markdown",
   "metadata": {},
   "source": [
    "### How do the record counts from each file compare when split by controlled and non-controlled values?"
   ]
  },
  {
   "cell_type": "markdown",
   "metadata": {},
   "source": [
    "There are two definitions found for controlled items. The definition at the DLA LESO Public Data website says [controlled](https://www.dla.mil/Portals/104/Documents/DispositionServices/LESO/DISP_ControlledPropertyDefinition_062019.pdf) items have a 'DEMIL Code' of B, C, D, E, F or G as well as those with a 'DEMIL Code' Q combined with a 'DEMIL IC' value of 3. The relevant U. S. code, [10 U.S.C. &sect; 2576a(f)](https://uscode.house.gov/view.xhtml?req=granuleid:USC-prelim-title10-section2576a&num=0&edition=prelim), defines controlled items as having a 'DEMIL Code' of B, C, D, E, G, and Q. For the purpose of this notebook, the first definition is used. Records that are not in the controlled group are considered non-controlled.   "
   ]
  },
  {
   "cell_type": "code",
   "execution_count": null,
   "metadata": {},
   "outputs": [],
   "source": [
    "#    Explore record count when split by controlled/non-controlled values\n",
    "get_Q_controlled = lambda x: x[(x['DEMIL Code'] == 'Q') & (x['DEMIL IC'] == 3)].groupby('DEMIL Code')['DEMIL Code'].count()\n",
    "get_Q_noncontrolled = lambda x: x[(x['DEMIL Code'] == 'Q') & (x['DEMIL IC'] != 3)].groupby('DEMIL Code')['DEMIL Code'].count()\n",
    "\n",
    "demilcode_qNON_count = pd.DataFrame([get_Q_noncontrolled(x[0]) for x in file_quarters_dict.values()]).T\n",
    "demilcode_qNON_count.columns = ['Quarter 1', 'Quarter 2', 'Quarter 3']\n",
    "demilcode_qNON_count.index = ['QNON']\n",
    "\n",
    "demilcode_q3_count = pd.DataFrame([get_Q_controlled(x[0]) for x in file_quarters_dict.values()]).T\n",
    "demilcode_q3_count.columns = ['Quarter 1', 'Quarter 2', 'Quarter 3']\n",
    "demilcode_q3_count.index = ['Q3']\n",
    "\n",
    "demilcode_count = pd.concat([x[0].groupby('DEMIL Code')['Ship Date'].count() for x in file_quarters_dict.values()], axis=1)\n",
    "demilcode_count.columns = [x[1] for x in file_quarters_dict.values()]\n",
    "demilcode_count = pd.concat([demilcode_count,demilcode_q3_count,demilcode_qNON_count])\n",
    "\n",
    "#    Make a graph\n",
    "fig = plt.figure(constrained_layout=False, figsize=(18,8))\n",
    "\n",
    "gs1 = fig.add_gridspec(nrows=1, ncols=5)\n",
    "fig_ax1 = fig.add_subplot(gs1[0,:3])\n",
    "demilcode_count.plot.bar(ax=fig_ax1, rot=0, figsize=(12,6), legend=True, xlabel='DEMIL Code', ylabel='Total Records',\n",
    "                  title='Total Record Count for Each File by DEMIL Code')\n",
    "\n",
    "ax2 = fig.add_subplot(gs1[0,4])\n",
    "font_size=12\n",
    "bbox=[0, 0, 2, .75]\n",
    "ax2.axis('off')\n",
    "table_ax1 = ax2.table(cellText = demilcode_count.values, rowLabels = demilcode_count.index,\n",
    "                      bbox=bbox, colLabels=demilcode_count.columns, label='Actual Counts')\n",
    "table_ax1.auto_set_font_size(False)\n",
    "table_ax1.set_fontsize(font_size)"
   ]
  },
  {
   "cell_type": "code",
   "execution_count": null,
   "metadata": {},
   "outputs": [],
   "source": [
    "#    Explore differences between counts of controlled/non-controlled values compared total records\n",
    "diff_total = [(transfer_count_series['Quarter 1'] - transfer_count_series['Quarter 2']),\n",
    "             (transfer_count_series['Quarter 2'] - transfer_count_series['Quarter 3']),\n",
    "             (transfer_count_series['Quarter 1'] - transfer_count_series['Quarter 3'])]\n",
    "diff_noncon = [(demilcode_count.loc[['A','QNON'], 'Quarter 1'].sum() - demilcode_count.loc[['A','QNON'], 'Quarter 2'].sum()),\n",
    "               (demilcode_count.loc[['A','QNON'], 'Quarter 2'].sum() - demilcode_count.loc[['A','QNON'], 'Quarter 3'].sum()),\n",
    "              (demilcode_count.loc[['A','QNON'], 'Quarter 1'].sum() - demilcode_count.loc[['A','QNON'], 'Quarter 3'].sum())]\n",
    "diff_con = [(demilcode_count.loc[['B','C','D','E','F','Q3'], 'Quarter 1'].sum() - demilcode_count.loc[['B','C','D','E','F','Q3'], 'Quarter 2'].sum()),\n",
    "           (demilcode_count.loc[['B','C','D','E','F','Q3'], 'Quarter 2'].sum() - demilcode_count.loc[['B','C','D','E','F','Q3'], 'Quarter 3'].sum()),\n",
    "           (demilcode_count.loc[['B','C','D','E','F','Q3'], 'Quarter 1'].sum() - demilcode_count.loc[['B','C','D','E','F','Q3'], 'Quarter 3'].sum())]\n",
    "pd.DataFrame({'Total Records': diff_total,\n",
    "              'Non-Controlled Records': diff_noncon,\n",
    "              'Controlled Records': diff_con},index=['Quarter 1 minus Quarter 2', \n",
    "                                                     'Quarter 2 minus Quarter 3',\n",
    "                                                     'Quarter 1 minus Quarter 3'])\n"
   ]
  },
  {
   "cell_type": "markdown",
   "metadata": {},
   "source": [
    "Looking at the difference between counts of controlled and non-controlled records in the different files, it is clear that the loss of records between files from each quarter is not accounted for by the removal of non-controlled records from the DLA LESO inventory. "
   ]
  },
  {
   "cell_type": "markdown",
   "metadata": {},
   "source": [
    "### Are there patterens in the counts of controlled vs. non-controlled records since 2000?"
   ]
  },
  {
   "cell_type": "code",
   "execution_count": null,
   "metadata": {},
   "outputs": [],
   "source": [
    "#    Split into controlled/non-controlled dataframes for each file\n",
    "controlled1, noncontrolled1 = split_demilcodes(file_quarters_dict['transfers1'][0])\n",
    "controlled2, noncontrolled2 = split_demilcodes(file_quarters_dict['transfers2'][0])\n",
    "controlled3, noncontrolled3 = split_demilcodes(file_quarters_dict['transfers3'][0])"
   ]
  },
  {
   "cell_type": "code",
   "execution_count": null,
   "metadata": {},
   "outputs": [],
   "source": [
    "#    Explore patterns in controlled dataframes\n",
    "diff_trans1c_and_trans2c = differences_by_time('Y', '2000-01-01', '2020-09-30', controlled1, controlled2)\n",
    "diff_trans2c_and_trans3c = differences_by_time('Y', '2000-01-01', '2020-09-30', controlled2, controlled3)\n",
    "\n",
    "compare_controlled = diff_trans1c_and_trans2c.merge(diff_trans2c_and_trans3c, how='outer',\n",
    "                                               left_index=True, right_index=True, suffixes=['_first','_second'])\n",
    "compare_controlled.columns = ['Quarter 1(compared with Quarter 2)','Quarter 2(compared with Quarter 1)',\n",
    "                              'Quarter 2(compared with Quarter 3)','Quarter 3(compared with Quarter 2)']\n",
    "compare_controlled = compare_controlled.fillna(0).astype(int)\n",
    "compare_controlled.index = compare_controlled.index.to_period('y')\n",
    "\n",
    "#    Make a graph\n",
    "title_str = 'Differences in Controlled Record Count Since 2000 (excluding years with no differences)'\n",
    "ax = compare_controlled.plot.bar(rot=90, figsize=(18,8), legend=True, xlabel='Year', ylabel='Total Records',\n",
    "                                 title=title_str)"
   ]
  },
  {
   "cell_type": "code",
   "execution_count": null,
   "metadata": {},
   "outputs": [],
   "source": [
    "#    Explore patterns in controlled dataframes\n",
    "diff_trans1nc_and_trans2nc = differences_by_time('Y', '2000-01-01', '2020-09-30', noncontrolled1, noncontrolled2)\n",
    "diff_trans2nc_and_trans3nc = differences_by_time('Y', '2000-01-01', '2020-09-30', noncontrolled2, noncontrolled3)\n",
    "\n",
    "compare_noncontrolled = diff_trans1nc_and_trans2nc.merge(diff_trans2nc_and_trans3nc, how='outer',\n",
    "                          left_index=True, right_index=True, suffixes=['_first','_second'])\n",
    "compare_noncontrolled.columns = ['Quarter 1(compared with Quarter 2)','Quarter 2(compared with Quarter 1)',\n",
    "                                 'Quarter 2(compared with Quarter 3)','Quarter 3(compared with Quarter 2)']\n",
    "compare_noncontrolled = compare_noncontrolled.fillna(0).astype(int)\n",
    "compare_noncontrolled.index = compare_noncontrolled.index.to_period('y')\n",
    "\n",
    "#    Make a graph\n",
    "title_str = 'Differences in Non-Controlled Record Count Since 2000 (excluding years with no differences)'\n",
    "ax = compare_noncontrolled.plot.bar(rot=90, figsize=(18,8), legend=True, xlabel='Year', ylabel='Total Records',\n",
    "                                    title=title_str)"
   ]
  },
  {
   "cell_type": "markdown",
   "metadata": {},
   "source": [
    "As expected, 2019 shows a big decrease in non-controlled records. In each file, there is some change in both controlled and non-controlled records beyond one year ago. No explanation for why this happens has yet been found. "
   ]
  },
  {
   "cell_type": "markdown",
   "metadata": {},
   "source": [
    "### Addendum: A Closer Look at Inconsistancies in a Year"
   ]
  },
  {
   "cell_type": "markdown",
   "metadata": {},
   "source": [
    "Exploring the month-by-month differences in record count for a particular year shows records are not only disappearing, but being added to the files each quarter. Therefore, data from a file downloaded for one quarter may not be consistant with data downloaded in another quarter even for dates earlier than the previous year.   "
   ]
  },
  {
   "cell_type": "markdown",
   "metadata": {},
   "source": [
    "#### A Closer Look at 2014 "
   ]
  },
  {
   "cell_type": "code",
   "execution_count": null,
   "metadata": {},
   "outputs": [],
   "source": [
    "#    Explore patterns in controlled records of dataframes for 2018\n",
    "month_diff_trans1c_and_trans2c = differences_by_time('M', '2014-01-01', '2014-12-31', controlled1, controlled2)\n",
    "month_diff_trans2c_and_trans3c = differences_by_time('M', '2014-01-01', '2014-12-31', controlled2, controlled3)\n",
    "\n",
    "month_compare_controlled = month_diff_trans1c_and_trans2c.\\\n",
    "                                    merge(month_diff_trans2c_and_trans3c, how='outer',\n",
    "                                          left_index=True, right_index=True, suffixes=['_first','_second'])\n",
    "month_compare_controlled.columns = ['Quarter 1(compared with Quarter 2)','Quarter 2(compared with Quarter 1)',\n",
    "                                    'Quarter 2(compared with Quarter 3)','Quarter 3(compared with Quarter 2)']\n",
    "month_compare_controlled = month_compare_controlled.fillna(0).astype(int)\n",
    "month_compare_controlled.index = month_compare_controlled.index.to_period('m')\n",
    "\n",
    "#    Make a graph\n",
    "title_str = 'Differences in Controlled Record Count for 2014 \\\n",
    "(excluding months with no differences)'\n",
    "ax = month_compare_controlled.plot.bar(rot=90, figsize=(12,6), legend=True,\n",
    "                                       xlabel='Month', ylabel='Total Records',\n",
    "                                       title=title_str)"
   ]
  },
  {
   "cell_type": "code",
   "execution_count": null,
   "metadata": {},
   "outputs": [],
   "source": [
    "#    Explore patterns in non-controlled records of dataframes for 2018\n",
    "month_diff_trans1nc_and_trans2nc = differences_by_time('M', '2014-01-01', '2014-12-31', noncontrolled1, noncontrolled2)\n",
    "month_diff_trans2nc_and_trans3nc = differences_by_time('M', '2014-01-01', '2014-12-31', noncontrolled2, noncontrolled3)\n",
    "\n",
    "month_compare_noncontrolled = month_diff_trans1nc_and_trans2nc.\\\n",
    "                                    merge(month_diff_trans2nc_and_trans3nc, how='outer',\n",
    "                                          left_index=True, right_index=True, suffixes=['_first','_second'])\n",
    "month_compare_noncontrolled.columns = ['Quarter 1(compared with Quarter 2)','Quarter 2(compared with Quarter 1)',\n",
    "                                       'Quarter 2(compared with Quarter 3)','Quarter 3(compared with Quarter 2)']\n",
    "month_compare_noncontrolled = month_compare_noncontrolled.fillna(0).astype(int)\n",
    "month_compare_noncontrolled.index = month_compare_noncontrolled.index.to_period('m')\n",
    "\n",
    "#    Make a graph\n",
    "title_str = 'Differences in Non-Controlled Record Count for 2014 \\\n",
    "(excluding months with no differences)'\n",
    "ax = month_compare_noncontrolled.plot.bar(rot=90, figsize=(12,6), legend=True,\n",
    "                                          xlabel='Month', ylabel='Total Records',\n",
    "                                          title=title_str)"
   ]
  },
  {
   "cell_type": "markdown",
   "metadata": {},
   "source": [
    "#### A Closer Look at 2018 "
   ]
  },
  {
   "cell_type": "code",
   "execution_count": null,
   "metadata": {},
   "outputs": [],
   "source": [
    "#    Explore patterns in controlled records of dataframes for 2018\n",
    "month_diff_trans1c_and_trans2c = differences_by_time('M', '2018-01-01', '2018-12-31', controlled1, controlled2)\n",
    "month_diff_trans2c_and_trans3c = differences_by_time('M', '2018-01-01', '2018-12-31', controlled2, controlled3)\n",
    "\n",
    "month_compare_controlled = month_diff_trans1c_and_trans2c.\\\n",
    "                                    merge(month_diff_trans2c_and_trans3c, how='outer',\n",
    "                                          left_index=True, right_index=True, suffixes=['_first','_second'])\n",
    "month_compare_controlled.columns = ['Quarter 1(compared with Quarter 2)','Quarter 2(compared with Quarter 1)',\n",
    "                                    'Quarter 2(compared with Quarter 3)','Quarter 3(compared with Quarter 2)']\n",
    "month_compare_controlled = month_compare_controlled.fillna(0).astype(int)\n",
    "month_compare_controlled.index = month_compare_controlled.index.to_period('m')\n",
    "\n",
    "#    Make a graph\n",
    "title_str = 'Differences in Controlled Record Count for 2018 \\\n",
    "(excluding months with no differences)'\n",
    "ax = month_compare_controlled.plot.bar(rot=90, figsize=(12,6), legend=True,\n",
    "                                       xlabel='Month', ylabel='Total Records',\n",
    "                                       title=title_str)"
   ]
  },
  {
   "cell_type": "code",
   "execution_count": null,
   "metadata": {},
   "outputs": [],
   "source": [
    "#    Explore patterns in non-controlled records of dataframes for 2018\n",
    "month_diff_trans1nc_and_trans2nc = differences_by_time('M', '2018-01-01', '2018-12-31', noncontrolled1, noncontrolled2)\n",
    "month_diff_trans2nc_and_trans3nc = differences_by_time('M', '2018-01-01', '2018-12-31', noncontrolled2, noncontrolled3)\n",
    "\n",
    "month_compare_noncontrolled = month_diff_trans1nc_and_trans2nc.\\\n",
    "                                    merge(month_diff_trans2nc_and_trans3nc, how='outer',\n",
    "                                          left_index=True, right_index=True, suffixes=['_first','_second'])\n",
    "month_compare_noncontrolled.columns = ['Quarter 1(compared with Quarter 2)','Quarter 2(compared with Quarter 1)',\n",
    "                                       'Quarter 2(compared with Quarter 3)','Quarter 3(compared with Quarter 2)']\n",
    "month_compare_noncontrolled = month_compare_noncontrolled.fillna(0).astype(int)\n",
    "month_compare_noncontrolled.index = month_compare_noncontrolled.index.to_period('m')\n",
    "\n",
    "#    Make a graph\n",
    "title_str = 'Differences in Non-Controlled Record Count for 2018 \\\n",
    "(excluding months with no differences)'\n",
    "ax = month_compare_noncontrolled.plot.bar(rot=90, figsize=(12,6), legend=True,\n",
    "                                          xlabel='Month', ylabel='Total Records',\n",
    "                                          title=title_str)"
   ]
  }
 ],
 "metadata": {
  "kernelspec": {
   "display_name": "Python 3",
   "language": "python",
   "name": "python3"
  },
  "language_info": {
   "codemirror_mode": {
    "name": "ipython",
    "version": 3
   },
   "file_extension": ".py",
   "mimetype": "text/x-python",
   "name": "python",
   "nbconvert_exporter": "python",
   "pygments_lexer": "ipython3",
   "version": "3.8.5"
  }
 },
 "nbformat": 4,
 "nbformat_minor": 4
}
