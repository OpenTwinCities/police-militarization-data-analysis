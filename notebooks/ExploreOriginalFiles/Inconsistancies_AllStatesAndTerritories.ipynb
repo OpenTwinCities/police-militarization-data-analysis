{
 "cells": [
  {
   "cell_type": "markdown",
   "metadata": {},
   "source": [
    "# Exploring inconsistancies between AllStatesAndTerritories"
   ]
  },
  {
   "cell_type": "markdown",
   "metadata": {},
   "source": [
    "This notebook shows inconsistancies in the *LESO Property Transferred to Participating Agencies* files over the first three fiscal quarters of 2020."
   ]
  },
  {
   "cell_type": "markdown",
   "metadata": {},
   "source": [
    "As of October, 2020, three DISP_AllStatesAndTransfers file have been collected from the [DLA LESO Public Data](https://www.dla.mil/DispositionServices/Offers/Reutilization/LawEnforcement/PublicInformation/) website for the quarters ending March 31, June 30, and September 30 of 2020."
   ]
  },
  {
   "cell_type": "code",
   "execution_count": null,
   "metadata": {},
   "outputs": [],
   "source": [
    "#    Libraries used by this notebook.\n",
    "\n",
    "import pandas as pd\n",
    "import sys\n",
    "\n",
    "#!python --version    #Python 3.8.5\n",
    "# sys standard module\n",
    "#pd.__version__       #1.1.2\n",
    "\n",
    "sys.path.insert(0, \"..\\\\..\\\\scripts\\\\\") # go to parent dir\n",
    "from notebookfunctions import make_dataframe, count_by_time, differences_by_time\n",
    "\n",
    "#    VARIABLES THAT CAN BE CUSTOMIZED\n",
    "\n",
    "#    Enter the path to the folder containing all the data files.\n",
    "path_datafiles = \"../../data/\"\n",
    "\n",
    "#    Get the 'LESO Property Transferred to Participating Agencies' file from \n",
    "#        Defense Logicstics Agency Law Enforcement Support Office Public Information\n",
    "#    The original name of the data file should be in the form:\n",
    "#        DISP_AllStatesAndTerritories_mmddyyyy.xlsx  \n",
    "#\n",
    "#    Enter the name of the LESO files to be checked.\n",
    "LESO1_file = \"DISP_AllStatesAndTerritories_03312020.xlsx\"\n",
    "LESO2_file = \"DISP_AllStatesAndTerritories_06302020.xlsx\"\n",
    "LESO3_file = \"DISP_AllStatesAndTerritories_09302020.xlsx\"\n",
    "#LESO4_file = \"DISP_AllStatesAndTerritories_12312020.xlsx\"\n",
    "\n",
    "#    Read the data from the XLSX files.\n",
    "#    transfer#_dict is a dictionary of all sheets in the LESO_file\n",
    "#         keys are full state/territory names\n",
    "#         values are a single dataframe of all transfers for that state/territory\n",
    "#    The records may be cumulative up to this quarter.\n",
    "transfers1_dict = pd.read_excel('file:' + path_datafiles + LESO1_file, sheet_name=None)\n",
    "transfers2_dict = pd.read_excel('file:' + path_datafiles + LESO2_file, sheet_name=None)\n",
    "transfers3_dict = pd.read_excel('file:' + path_datafiles + LESO3_file, sheet_name=None)\n",
    "#transfers4_dict = pd.read_excel('file:' + path_datafiles + 'DISP_AllStatesAndTerritories_12312020.xlsx', sheet_name=None)\n",
    "\n",
    "#    Flatten each dictionary of states into its own dataframe\n",
    "transfers1_df = make_dataframe(transfers1_dict, 'Ship Date')\n",
    "transfers2_df = make_dataframe(transfers2_dict, 'Ship Date')\n",
    "transfers3_df = make_dataframe(transfers3_dict, 'Ship Date')\n",
    "#transfers4_df = make_dataframe(transfers4_dict, 'Ship Date')"
   ]
  },
  {
   "cell_type": "code",
   "execution_count": null,
   "metadata": {},
   "outputs": [],
   "source": [
    "def split_demil(a_df: pd.DataFrame) -> [pd.DataFrame, pd.DataFrame]:\n",
    "    \"\"\"split the dataframe into controlled and noncontrolled records\"\"\"\n",
    "    \n",
    "    allQ = a_df[a_df['DEMIL Code'].isin(['Q'])]\n",
    "    ncQ = allQ[allQ['DEMIL IC'] != 3]\n",
    "    cQ = allQ[allQ['DEMIL IC'] == 3]\n",
    "    \n",
    "    noncontrolled = a_df[a_df['DEMIL Code'].isin(['A'])]\n",
    "    controlled = a_df[a_df['DEMIL Code'].isin(['B', 'C', 'D', 'E', 'F', 'G'])]\n",
    "    \n",
    "    return [controlled.append(cQ), noncontrolled.append(ncQ)]"
   ]
  },
  {
   "cell_type": "markdown",
   "metadata": {},
   "source": [
    "### What is the range of dates on records in each file?"
   ]
  },
  {
   "cell_type": "markdown",
   "metadata": {},
   "source": [
    "Under a section called *LESO Property Transferred to Participating Agencies* the website says this file is \"... is the most recent quarterly update of the accountable property held by participating agencies.\" Looking at the 'Ship Date' in each file, one finds the following:"
   ]
  },
  {
   "cell_type": "code",
   "execution_count": null,
   "metadata": {},
   "outputs": [],
   "source": [
    "print('LESO file transfers1 index between',transfers1_df.index.min(),'and',transfers1_df.index.max())\n",
    "print('LESO file transfers2 index between',transfers2_df.index.min(),'and',transfers2_df.index.max())\n",
    "print('LESO file transfers3 index between',transfers3_df.index.min(),'and',transfers3_df.index.max())"
   ]
  },
  {
   "cell_type": "code",
   "execution_count": null,
   "metadata": {},
   "outputs": [],
   "source": [
    "transfer1_late_dates = transfers1_df.loc['2020-04-01':'2020-04-21'].groupby('Ship Date')['Ship Date'].count()\n",
    "transfer2_late_dates = transfers2_df.loc['2020-04-01':'2020-04-21'].groupby('Ship Date')['Ship Date'].count()\n",
    "transfer3_late_dates = transfers3_df.loc['2020-04-01':'2020-04-21'].groupby('Ship Date')['Ship Date'].count()\n",
    "april_df = pd.DataFrame({'Transfers1':transfer1_late_dates,\n",
    "                         'Transfers2':transfer2_late_dates,\n",
    "                         'Transfers3':transfer3_late_dates}).fillna(0).astype(int)\n",
    "ax = april_df.plot.bar(rot=90,figsize=(10,5))"
   ]
  },
  {
   "cell_type": "code",
   "execution_count": null,
   "metadata": {},
   "outputs": [],
   "source": [
    "april_differences = april_df.diff(axis=1).iloc[:, 1:]\n",
    "april_differences.columns = ['Difference2-1','Difference3-2']\n",
    "april_differences[(april_differences['Difference2-1'] != 0) | (april_differences['Difference3-2'] != 0)]"
   ]
  },
  {
   "cell_type": "markdown",
   "metadata": {},
   "source": [
    "While the data is stable from the second quarter to the third quarter, there are both records gained and lost from the first quarter to the second quarter."
   ]
  },
  {
   "cell_type": "markdown",
   "metadata": {},
   "source": [
    "### What how many total records are there in each file?"
   ]
  },
  {
   "cell_type": "code",
   "execution_count": null,
   "metadata": {},
   "outputs": [],
   "source": [
    "ax = pd.Series({'Transfers1': transfers1_df.shape[0],\n",
    "                'Transfers2': transfers2_df.shape[0],\n",
    "                'Transfers3': transfers3_df.shape[0]}).plot(rot=90,figsize=(10,5))"
   ]
  },
  {
   "cell_type": "code",
   "execution_count": null,
   "metadata": {
    "scrolled": true
   },
   "outputs": [],
   "source": [
    "trans1_record_count = int(transfers1_df.shape[0])\n",
    "trans2_record_count = int(transfers2_df.shape[0])\n",
    "trans3_record_count = int(transfers3_df.shape[0])\n",
    "print('Record count in transfers1:',trans1_record_count)\n",
    "print('Record count in transfers2:',trans2_record_count)\n",
    "print('Record count in transfers3:',trans3_record_count)"
   ]
  },
  {
   "cell_type": "markdown",
   "metadata": {},
   "source": [
    "The number of records is declining from file to file despite the time range growing. Documentation at the DLA LESO Public Data FAQ states that *LESO Property Transferred to Participating Agencies* files are snapshots of the DLA LESO inventory of items held by law enforcement agencies as of that quarter. It says that after 1 year non-controlled items are removed from DLA LESO inventory and become the property of local law enforcement agencies."
   ]
  },
  {
   "cell_type": "markdown",
   "metadata": {},
   "source": [
    "[Controlled](https://www.dla.mil/Portals/104/Documents/DispositionServices/LESO/DISP_ControlledPropertyDefinition_062019.pdf) items have a DEMIL Code of B, C, D, E, F or G and those with a DEMIL Code Q combined with a DEMIL IC value of 3. Note [10 U.S.C. &sect; 2576a(f)](https://uscode.house.gov/view.xhtml?req=granuleid:USC-prelim-title10-section2576a&num=0&edition=prelim) defines controlled as having DEMIL Codes of B, C, D, E, G, and Q. For the purpose of this notebook, the first definition is used.   "
   ]
  },
  {
   "cell_type": "code",
   "execution_count": null,
   "metadata": {},
   "outputs": [],
   "source": [
    "demilcode_qNON_count = pd.DataFrame([\n",
    "    transfers1_df[(transfers1_df['DEMIL Code'] == 'Q') & (transfers1_df['DEMIL IC'] != 3)].\\\n",
    "                    groupby('DEMIL Code')['DEMIL Code'].count(),\n",
    "    transfers2_df[(transfers2_df['DEMIL Code'] == 'Q') & (transfers2_df['DEMIL IC'] != 3)].\\\n",
    "                    groupby('DEMIL Code')['DEMIL Code'].count(),\n",
    "    transfers3_df[(transfers3_df['DEMIL Code'] == 'Q') & (transfers3_df['DEMIL IC'] != 3)].\\\n",
    "                    groupby('DEMIL Code')['DEMIL Code'].count()])\n",
    "demilcode_qNON_count.index = ['transfers1', 'transfers2', 'transfers3']\n",
    "demilcode_qNON_count.columns = ['QNON']\n",
    "\n",
    "\n",
    "demilcode_q3_count = pd.DataFrame([\n",
    "    transfers1_df[(transfers1_df['DEMIL Code'] == 'Q') & (transfers1_df['DEMIL IC'] == 3)].\\\n",
    "                    groupby('DEMIL Code')['DEMIL Code'].count(),\n",
    "    transfers2_df[(transfers2_df['DEMIL Code'] == 'Q') & (transfers2_df['DEMIL IC'] == 3)].\\\n",
    "                    groupby('DEMIL Code')['DEMIL Code'].count(),\n",
    "    transfers3_df[(transfers3_df['DEMIL Code'] == 'Q') & (transfers3_df['DEMIL IC'] == 3)].\\\n",
    "                    groupby('DEMIL Code')['DEMIL Code'].count()])\n",
    "demilcode_q3_count.index = ['transfers1', 'transfers2', 'transfers3']\n",
    "demilcode_q3_count.columns = ['Q3']\n",
    "\n",
    "\n",
    "demilcode_count = pd.concat([transfers1_df.groupby('DEMIL Code')['Ship Date'].count(),\n",
    "                             transfers2_df.groupby('DEMIL Code')['Ship Date'].count(),\n",
    "                             transfers3_df.groupby('DEMIL Code')['Ship Date'].count()], axis=1)\n",
    "demilcode_count.columns = ['transfers1', 'transfers2', 'transfers3']\n",
    "demilcode_count = demilcode_count.append(demilcode_q3_count.T).append(demilcode_qNON_count.T)"
   ]
  },
  {
   "cell_type": "code",
   "execution_count": null,
   "metadata": {},
   "outputs": [],
   "source": [
    "demilcode_count\n"
   ]
  },
  {
   "cell_type": "code",
   "execution_count": null,
   "metadata": {},
   "outputs": [],
   "source": [
    "diff_t1t2all = trans1_record_count - trans2_record_count\n",
    "print('There are', str(diff_t1t2all), 'records in transfers2 than transfers1.')\n",
    "\n",
    "t1nc = demilcode_count.loc[['A','QNON'], 'transfers1'].sum()\n",
    "t2nc = demilcode_count.loc[['A','QNON'], 'transfers2'].sum()\n",
    "diff_t1t2nc = t1nc - t2nc\n",
    "print('Of these,', str(diff_t1t2nc), 'are non-controlled.')\n",
    "\n",
    "t1c = demilcode_count.loc[['B','C','D','E','F','Q3'], 'transfers1'].sum()\n",
    "t2c = demilcode_count.loc[['B','C','D','E','F','Q3'], 'transfers2'].sum()\n",
    "diff_t1t2c = t1c - t2c\n",
    "print('Of these,', str(diff_t1t2c), 'are controlled.')"
   ]
  },
  {
   "cell_type": "markdown",
   "metadata": {},
   "source": [
    "### What patterns in controlled and non-controlled items over the years?"
   ]
  },
  {
   "cell_type": "code",
   "execution_count": null,
   "metadata": {},
   "outputs": [],
   "source": [
    "controlled1, noncontrolled1 = split_demil(transfers1_df)\n",
    "controlled2, noncontrolled2 = split_demil(transfers2_df)\n",
    "controlled3, noncontrolled3 = split_demil(transfers3_df)"
   ]
  },
  {
   "cell_type": "code",
   "execution_count": null,
   "metadata": {},
   "outputs": [],
   "source": [
    "between_t1c_and_t2c = differences_by_time('Y', '2000-01-01', '2020-09-30', controlled1, controlled2)\n",
    "between_t2c_and_t3c = differences_by_time('Y', '2000-01-01', '2020-09-30', controlled2, controlled3)\n",
    "\n",
    "compare_controlled = between_t1c_and_t2c.merge(between_t2c_and_t3c, how='outer',\n",
    "                          left_index=True, right_index=True, suffixes=['_first','_second'])\n",
    "compare_controlled.columns = ['t1count1','t2count2','t2count1','t3count2']\n",
    "compare_controlled = compare_controlled.fillna(0).astype(int)\n",
    "ax = compare_controlled.plot.bar(rot=90,figsize=(18,9))"
   ]
  },
  {
   "cell_type": "code",
   "execution_count": null,
   "metadata": {},
   "outputs": [],
   "source": [
    "between_t1nc_and_t2nc = differences_by_time('Y', '2000-01-01', '2020-09-30', noncontrolled1, noncontrolled2)\n",
    "between_t2nc_and_t3nc = differences_by_time('Y', '2000-01-01', '2020-09-30', noncontrolled2, noncontrolled3)\n",
    "\n",
    "compare_noncontrolled = between_t1nc_and_t2nc.merge(between_t2nc_and_t3nc, how='outer',\n",
    "                          left_index=True, right_index=True, suffixes=['_first','_second'])\n",
    "compare_noncontrolled.columns = ['t1count1','t2count2','t2count1','t3count2']\n",
    "compare_noncontrolled = compare_noncontrolled.fillna(0).astype(int)\n",
    "ax = compare_noncontrolled.plot.bar(rot=90,figsize=(18,9))"
   ]
  },
  {
   "cell_type": "code",
   "execution_count": null,
   "metadata": {},
   "outputs": [],
   "source": [
    "compare_noncontrolled"
   ]
  },
  {
   "cell_type": "markdown",
   "metadata": {},
   "source": [
    "As expected 2019 shows a big decrease in non-controlled items. In each file, there is some change in both controlled and non-controlled items beyond one year ago. There is no documentation for why this is so. If there were a way to tie requests and cancellations to this data, some insight might be gained. This is why the Check and Merge notebooks in this repository have been developed."
   ]
  },
  {
   "cell_type": "markdown",
   "metadata": {},
   "source": [
    "### Exploring 2018 differences"
   ]
  },
  {
   "cell_type": "markdown",
   "metadata": {},
   "source": [
    "Exploring the differences month-by-month in the year 2018 shows that there is no pattern in the data. Also, records are not only disappearing, but being added back in over time."
   ]
  },
  {
   "cell_type": "code",
   "execution_count": null,
   "metadata": {},
   "outputs": [],
   "source": [
    "month_between_t1c_and_t2c = differences_by_time('M', '2018-01-01', '2018-12-31', controlled1, controlled2)\n",
    "month_between_t2c_and_t3c = differences_by_time('M', '2018-01-01', '2018-12-31', controlled2, controlled3)\n",
    "\n",
    "month_compare_controlled = month_between_t1c_and_t2c.merge(month_between_t2c_and_t3c, how='outer',\n",
    "                          left_index=True, right_index=True, suffixes=['_first','_second'])\n",
    "month_compare_controlled.columns = ['t1count1','t2count2','t2count1','t3count2']\n",
    "month_compare_controlled = month_compare_controlled.fillna(0).astype(int)\n",
    "ax = month_compare_controlled.plot.bar(rot=90,figsize=(18,9))"
   ]
  },
  {
   "cell_type": "code",
   "execution_count": null,
   "metadata": {},
   "outputs": [],
   "source": [
    "month_between_t1nc_and_t2nc = differences_by_time('M', '2018-01-01', '2018-12-31', noncontrolled1, noncontrolled2)\n",
    "month_between_t2nc_and_t3nc = differences_by_time('M', '2018-01-01', '2018-12-31', noncontrolled2, noncontrolled3)\n",
    "\n",
    "month_compare_noncontrolled = month_between_t1nc_and_t2nc.merge(month_between_t2nc_and_t3nc, how='outer',\n",
    "                          left_index=True, right_index=True, suffixes=['_first','_second'])\n",
    "month_compare_noncontrolled.columns = ['t1count1','t2count2','t2count1','t3count2']\n",
    "month_compare_noncontrolled = month_compare_noncontrolled.fillna(0).astype(int)\n",
    "ax = month_compare_noncontrolled.plot.bar(rot=90,figsize=(18,9))"
   ]
  }
 ],
 "metadata": {
  "kernelspec": {
   "display_name": "Python 3",
   "language": "python",
   "name": "python3"
  },
  "language_info": {
   "codemirror_mode": {
    "name": "ipython",
    "version": 3
   },
   "file_extension": ".py",
   "mimetype": "text/x-python",
   "name": "python",
   "nbconvert_exporter": "python",
   "pygments_lexer": "ipython3",
   "version": "3.8.5"
  }
 },
 "nbformat": 4,
 "nbformat_minor": 4
}
