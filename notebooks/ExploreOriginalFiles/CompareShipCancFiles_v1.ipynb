{
 "cells": [
  {
   "cell_type": "code",
   "execution_count": null,
   "metadata": {},
   "outputs": [],
   "source": [
    "import pandas as pd\n",
    "import re\n",
    "\n",
    "# !python --version    #Python 3.8.5\n",
    "# pd.__version__       #1.1.2\n",
    "# re.__version__       #2.2.1\n",
    "#  datetime standard module"
   ]
  },
  {
   "cell_type": "code",
   "execution_count": null,
   "metadata": {},
   "outputs": [],
   "source": [
    "# useful functions 'Date Shipped' 'Date Requested'\n",
    "def clean_dataframe(a_df: pd.DataFrame, col: str) -> pd.DataFrame:\n",
    "    \"\"\" Return dataframe of all values in dictionary.\"\"\"\n",
    "    a_df = a_df.apply(lambda x: x.str.strip() if x.dtype == 'object' else x)\n",
    "    a_df.index = a_df[col]\n",
    "    a_df.index = a_df.index.normalize()\n",
    "    a_df.index.name = 'Date'\n",
    "    return a_df"
   ]
  },
  {
   "cell_type": "code",
   "execution_count": null,
   "metadata": {},
   "outputs": [],
   "source": [
    "# Get quarterly cumulative LESO Transferred Property data file from \n",
    "#     Defense Logicstics Agency Law Enforcement Support Office Public Information\n",
    "# Orginal name of the data file should be in the form:\n",
    "#      DISP_Shipments_Cancellations_mmddyyyy_mmddyyyy.xlsx  \n",
    "# Enter the local file name\n",
    "LESO_Q1_file = \"DISP_Shipments_Cancellations_01012020_03312020.xlsx\"\n",
    "LESO_Q2_file = \"DISP_Shipments_Cancellations_04012020_06302020.xlsx\"\n",
    "#LESO_Q3_file = \"DISP_Shipments_Cancellations_07012020_09302020.xlsx\"\n",
    "#LESO_Q4_file = \"DISP_Shipments_Cancellations_10012020_12312020.xlsx\""
   ]
  },
  {
   "cell_type": "markdown",
   "metadata": {},
   "source": [
    "### Prepare data"
   ]
  },
  {
   "cell_type": "code",
   "execution_count": null,
   "metadata": {},
   "outputs": [],
   "source": [
    "# Load the data into dictionary of states (sheet names) and dataframes (sheet contents)\n",
    "q1_shipments = pd.read_excel(LESO_Q1_file, sheet_name='SHIPMENTS')\n",
    "q1_cancellations = pd.read_excel(LESO_Q1_file, sheet_name='CANCELLATIONS')\n",
    "q2_shipments = pd.read_excel(LESO_Q2_file, sheet_name='SHIPMENTS')\n",
    "q2_cancellations = pd.read_excel(LESO_Q2_file, sheet_name='CANCELLATIONS')\n",
    "#q3_shipments = pd.read_excel(LESO_Q3_file, sheet_name='SHIPMENTS')\n",
    "#q3_cancellations = pd.read_excel(LESO_Q3_file, sheet_name='CANCELLATIONS')\n",
    "#q4_shipments = pd.read_excel(LESO_Q4_file, sheet_name='SHIPMENTS')\n",
    "#q4_cancellations = pd.read_excel(LESO_Q4_file, sheet_name='CANCELLATIONS')"
   ]
  },
  {
   "cell_type": "code",
   "execution_count": null,
   "metadata": {},
   "outputs": [],
   "source": [
    "q1ship_df = clean_dataframe(q1_shipments, 'Date Shipped')\n",
    "q1canc_df = clean_dataframe(q1_cancellations, 'Date Requested')\n",
    "q2ship_df = clean_dataframe(q2_shipments, 'Date Shipped')\n",
    "q2canc_df = clean_dataframe(q2_cancellations, 'Date Requested')\n",
    "#q3ship_df = clean_dataframe(q3_shipments, 'Date Shipped')\n",
    "#q3canc_df = clean_dataframe(q3_cancellations, 'Date Requested')\n",
    "#q4ship_df = clean_dataframe(q4_shipments, 'Date Shipped')\n",
    "#q4canc_df = clean_dataframe(q4_cancellations, 'Date Requested')\n",
    "print('Q1 Ship shape:',q1ship_df.shape)  #Quarter 1 Shipments\n",
    "print('Q1 Ship index between',q1ship_df.index.min(),'and',q1ship_df.index.max())\n",
    "print('Q2 Ship shape:',q2ship_df.shape)  #Quarter 2 Shipments\n",
    "print('Q2 Ship index between',q2ship_df.index.min(),'and',q2ship_df.index.max())\n",
    "print('Q1 Canc shape:',q1canc_df.shape)  #Quarter 1 Cancellations\n",
    "print('Q1 Canc index between',q1canc_df.index.min(),'and',q1canc_df.index.max())\n",
    "print('Q2 Canc shape:',q2canc_df.shape)  #Quarter 2 Cancellations\n",
    "print('Q2 Canc index between',q2canc_df.index.min(),'and',q2canc_df.index.max())"
   ]
  },
  {
   "cell_type": "markdown",
   "metadata": {},
   "source": [
    "### Analyze data"
   ]
  },
  {
   "cell_type": "code",
   "execution_count": null,
   "metadata": {},
   "outputs": [],
   "source": [
    "q1ship_count_state = q1ship_df.groupby(pd.Grouper(freq=\"M\"))['State'].count()\n",
    "q1canc_count_state = q1canc_df.groupby(pd.Grouper(freq=\"M\"))['State'].count()\n",
    "q2ship_count_state = q2ship_df.groupby(pd.Grouper(freq=\"M\"))['State'].count()\n",
    "q2canc_count_state = q2canc_df.groupby(pd.Grouper(freq=\"M\"))['State'].count()\n",
    "#q3ship_count_state = q3ship_df.groupby(pd.Grouper(freq=\"M\"))['State'].count()\n",
    "#q3canc_count_state = q3canc_df.groupby(pd.Grouper(freq=\"M\"))['State'].count()\n",
    "#q4ship_count_state = q4ship_df.groupby(pd.Grouper(freq=\"M\"))['State'].count()\n",
    "#q4canc_count_state = q4canc_df.groupby(pd.Grouper(freq=\"M\"))['State'].count()\n",
    "monthIndex = pd.date_range(start='2013-01-01', end='2020-06-30', freq='M')"
   ]
  },
  {
   "cell_type": "code",
   "execution_count": null,
   "metadata": {},
   "outputs": [],
   "source": [
    "month_df = pd.DataFrame({\n",
    "                        'Q1ship_count': q1ship_count_state,\n",
    "                        'Q1canc_count': q1canc_count_state,\n",
    "                        'Q2ship_count': q2ship_count_state,\n",
    "                        'Q2canc_count': q2canc_count_state,\n",
    "                        #'Q3ship_count': q3ship_count_state,\n",
    "                        #'Q3canc_count': q3canc_count_state,\n",
    "                        #'Q4ship_count': q4ship_count_state,\n",
    "                        #'Q4canc_count': q4canc_count_state,\n",
    "                        },\n",
    "                        index=monthIndex)"
   ]
  },
  {
   "cell_type": "code",
   "execution_count": null,
   "metadata": {},
   "outputs": [],
   "source": [
    "month_df = month_df.fillna(0).astype(int)\n",
    "month_df.loc['2019-06-30':]"
   ]
  },
  {
   "cell_type": "code",
   "execution_count": null,
   "metadata": {},
   "outputs": [],
   "source": [
    "ax = month_df.loc['2019-06-30':].plot.bar(rot=90,figsize=(16,8))"
   ]
  },
  {
   "cell_type": "code",
   "execution_count": null,
   "metadata": {},
   "outputs": [],
   "source": [
    "#TODO do any of the cancellations overlap from one quarter to the other?"
   ]
  }
 ],
 "metadata": {
  "kernelspec": {
   "display_name": "Python 3",
   "language": "python",
   "name": "python3"
  },
  "language_info": {
   "codemirror_mode": {
    "name": "ipython",
    "version": 3
   },
   "file_extension": ".py",
   "mimetype": "text/x-python",
   "name": "python",
   "nbconvert_exporter": "python",
   "pygments_lexer": "ipython3",
   "version": "3.8.5"
  }
 },
 "nbformat": 4,
 "nbformat_minor": 4
}
