{
 "cells": [
  {
   "cell_type": "code",
   "execution_count": null,
   "metadata": {},
   "outputs": [],
   "source": [
    "import pandas as pd\n",
    "import re\n",
    "\n",
    "# !python --version    #Python 3.8.5\n",
    "# pd.__version__       #1.1.2\n",
    "# re.__version__       #2.2.1\n",
    "#  datetime standard module"
   ]
  },
  {
   "cell_type": "code",
   "execution_count": null,
   "metadata": {},
   "outputs": [],
   "source": [
    "# useful functions\n",
    "def make_dataframe(a_dict: dict) -> pd.DataFrame:\n",
    "    \"\"\" Return dataframe of all values in dictionary.\"\"\"\n",
    "    a_df = pd.concat([pd.concat([v],ignore_index=True) for k,v in a_dict.items()],ignore_index=True).\\\n",
    "                    apply(lambda x: x.str.strip() if x.dtype == 'object' else x)\n",
    "    a_df.index = a_df['Ship Date']\n",
    "    a_df.index = a_df.index.normalize()\n",
    "    a_df.index.name = 'Date'\n",
    "    return a_df"
   ]
  },
  {
   "cell_type": "code",
   "execution_count": null,
   "metadata": {},
   "outputs": [],
   "source": [
    "# Get quarterly cumulative LESO Transferred Property data file from \n",
    "#     Defense Logicstics Agency Law Enforcement Support Office Public Information\n",
    "# Orginal name of the data file should be in the form:\n",
    "#      DISP_AllStatesAndTerritories_mmddyyyy.xlsx  \n",
    "# Enter the local file name\n",
    "LESO_Q1_file = \"DISP_AllStatesAndTerritories_03312020.xlsx\"\n",
    "LESO_Q2_file = \"DISP_AllStatesAndTerritories_06302020.xlsx\"\n",
    "#LESO_Q3_file = \"DISP_AllStatesAndTerritories_09302020.xlsx\"\n",
    "#LESO_Q4_file = \"DISP_AllStatesAndTerritories_12312020.xlsx\""
   ]
  },
  {
   "cell_type": "markdown",
   "metadata": {},
   "source": [
    "### Prepare data"
   ]
  },
  {
   "cell_type": "code",
   "execution_count": null,
   "metadata": {},
   "outputs": [],
   "source": [
    "# Load the data into dictionary of states (sheet names) and dataframes (sheet contents)\n",
    "q1_dict = pd.read_excel(LESO_Q1_file, sheet_name=None)\n",
    "q2_dict = pd.read_excel(LESO_Q2_file, sheet_name=None)\n",
    "#q3_dict = pd.read_excel(LESO_Q3_file, sheet_name=None)\n",
    "#q4_dict = pd.read_excel(LESO_Q4_file, sheet_name=None)"
   ]
  },
  {
   "cell_type": "code",
   "execution_count": null,
   "metadata": {},
   "outputs": [],
   "source": [
    "q1_df = make_dataframe(q1_dict)\n",
    "q2_df = make_dataframe(q2_dict)\n",
    "#q3_df = make_dataframe(q3_dict)\n",
    "#q4_df = make_dataframe(q4_dict)\n",
    "print('Q1 shape:',q1_df.shape)  #Quarter 1 (141068, 11)\n",
    "print('Q2 shape:',q2_df.shape)  #Quarter 2 (138813, 11)\n",
    "#print('Q3 shape:',q1_df.shape)  #Quarter 1 (141068, 11)\n",
    "#print('Q4 shape:',q2_df.shape)  #Quarter 2 (138813, 11)\n",
    "print('Quarter 1 has dates between',q1_df['Ship Date'].min(),'and',q1_df['Ship Date'].max())\n",
    "print('Quarter 2 has dates between',q2_df['Ship Date'].min(),'and',q2_df['Ship Date'].max())\n",
    "#print('Quarter 3 has dates between',q1_df['Ship Date'].min(),'and',q1_df['Ship Date'].max())\n",
    "#print('Quarter 4 has dates between',q2_df['Ship Date'].min(),'and',q2_df['Ship Date'].max())"
   ]
  },
  {
   "cell_type": "markdown",
   "metadata": {},
   "source": [
    "### Analyze data"
   ]
  },
  {
   "cell_type": "code",
   "execution_count": null,
   "metadata": {},
   "outputs": [],
   "source": [
    "q1_count_state = q1_df.groupby(pd.Grouper(freq='Y'))['State'].count()\n",
    "q2_count_state = q2_df.groupby(pd.Grouper(freq='Y'))['State'].count()\n",
    "#q3_count_state = q3_df.groupby(pd.Grouper(freq=\"Y\"))['State'].count()\n",
    "#q4_count_state = q4_df.groupby(pd.Grouper(freq=\"Y\"))['State'].count()\n",
    "yearIndex = pd.date_range(start='1980-01-01', end='2020-06-30', freq='Y')"
   ]
  },
  {
   "cell_type": "code",
   "execution_count": null,
   "metadata": {},
   "outputs": [],
   "source": [
    "year_df = pd.DataFrame({\n",
    "                        'Q1_count': q1_count_state,\n",
    "                        'Q2_count': q2_count_state,\n",
    "                        #'Q3_count': q3_count_state,\n",
    "                        #'Q4_count': q4_count_state\n",
    "                        },\n",
    "                        index=yearIndex)"
   ]
  },
  {
   "cell_type": "code",
   "execution_count": null,
   "metadata": {},
   "outputs": [],
   "source": [
    "year_df.shape"
   ]
  },
  {
   "cell_type": "code",
   "execution_count": null,
   "metadata": {},
   "outputs": [],
   "source": [
    "ax = year_df.plot.bar(rot=90,figsize=(16,8))"
   ]
  },
  {
   "cell_type": "code",
   "execution_count": null,
   "metadata": {},
   "outputs": [],
   "source": [
    "# Check actual differences for different years\n",
    "start_year = '1990-01-01'\n",
    "end_year = '2020-03-31'\n",
    "compare_df = pd.DataFrame(\n",
    "    {\n",
    "    'Q1-Q2': year_df.loc[start_year:end_year,'Q1_count'] - year_df.loc[start_year:end_year,'Q2_count'],\n",
    "    #'Q2-Q3': year_df.loc[start_year:end_year,'Q2_count'] - year_df.loc[start_year:end_year,'Q3_count'],\n",
    "    #'Q3-Q4': year_df.loc[start_year:end_year,'Q3_count'] - year_df.loc[start_year:end_year,'Q4_count'],\n",
    "    })\n",
    "compare_df"
   ]
  }
 ],
 "metadata": {
  "kernelspec": {
   "display_name": "Python 3",
   "language": "python",
   "name": "python3"
  },
  "language_info": {
   "codemirror_mode": {
    "name": "ipython",
    "version": 3
   },
   "file_extension": ".py",
   "mimetype": "text/x-python",
   "name": "python",
   "nbconvert_exporter": "python",
   "pygments_lexer": "ipython3",
   "version": "3.8.5"
  }
 },
 "nbformat": 4,
 "nbformat_minor": 4
}
